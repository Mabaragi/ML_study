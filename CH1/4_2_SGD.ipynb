{
 "cells": [
  {
   "attachments": {
    "image.png": {
     "image/png": "[encoded data removed]"
    }
   },
   "cell_type": "markdown",
   "metadata": {},
   "source": [
    "### 점진적 학습, 온라인 학습\n",
    "데이터가 도착할 때 마다 모델을 업데이트 하는것. 대규모 데이터세트를 다루거나, 변화하는 데이터에 대응해야하는 온라인 시스템에서 중요함.\n",
    "\n",
    "새로운 정보를 학습하면서도, 이전에 학습한 정보를 유지한다.\n",
    "\n",
    "장점:\n",
    "- 전체 데이터를 메모리에 로드할 필요가 없어서 메모리 사용량을 줄일 수 있다.\n",
    "- 시스템이 최신 데이터에 대응할 수 있다.\n",
    "- 점진적으로 처리함으로써 대규모 데이터세트를 다룰 수 있다.\n",
    "\n",
    "\n",
    "### 확률적 경사 하강법 (Stochastic Gradient Descent)\n",
    "가장 가파른 경사를 따라 원하는 지점에 도달하는것을 목표로 설계된 알고리즘.\n",
    "\n",
    "**경사하강법**\n",
    "\n",
    "![image.png](attachment:image.png)\n",
    "\n",
    "- 손실함수의 최소값을 찾기 위해 모델의 매개변수를 조정하는 방법.\n",
    "- 쉽게 말하면 더 잘 예측하는 모델을 도출하기 위해 가중치를 조절하는것이다.\n",
    "- 손실함수를 모델에 대해 미분하면, 매개변수를 어떻게 조정해야 손실함수를 작게할 수 있는지 알 수 있다.\n",
    "- 각 에포크마다 매개변수를 조정해가며 시도한다. 따라서 점진적 학습(`partial fit`)이 가능하다.\n",
    "- 지역 최소값이나 안장점에 빠질 위험이 있다.\n",
    "\n",
    "**확률적**\n",
    "\n",
    "SGD에서 랜덤한 데이터 서브세트를 사용하는 이유\n",
    "- 비교적 계산 비용이낮다. 그래서 더 빠르게 학습할 수 있다.\n",
    "- 과적합을 방지한다.\n",
    "- 랜덤성 덕분에 지역최소값에서 벗어날 가능성이 높다.\n",
    "- 대규모 데이터셋을 학습할때, 서브세트를 점진적으로 학습할 수 있다.\n",
    "- 점진적 학습에 적합하다.\n",
    "\n",
    "### 손실함수\n",
    "머신 러닝 모델의 예측값과 실제값 사이의 차이를 수치화하는 함수. 모델의 성능을 평가하는데 사용하고, 모델은 학습하는동안 이 수치를 최소화 하기 위해 사용한다.\n",
    "- MSE : 평균제곱 오차. 회귀 문제에서 손실함수로 사용된다.\n",
    "- 크로스 엔트로피 손실 : 분류 문제에서 실제 클래스에 속할 확률을 얼마나 잘 예측하는지 나타낸다.\n",
    "- 손실 함수는 모델에 따라 엄격하게 정의되는 것이 아니라, 주어진 문제의 특성과 목적에 맞게 선택하거나 설계된다."
   ]
  },
  {
   "cell_type": "markdown",
   "metadata": {},
   "source": [
    "### SGD Classifier"
   ]
  },
  {
   "cell_type": "code",
   "execution_count": 2,
   "metadata": {},
   "outputs": [
    {
     "name": "stdout",
     "output_type": "stream",
     "text": [
      "Species  Perch  Bream  Roach  Pike  Smelt  Parkki  Whitefish\n",
      "count       56     35     20    17     14      11          6\n",
      "Index(['Species', 'Weight', 'Length', 'Diagonal', 'Height', 'Width'], dtype='object')\n"
     ]
    }
   ],
   "source": [
    "# 데이터 임포트 및 통계량 확인\n",
    "import pandas as pd\n",
    "fish = pd.read_csv('https://bit.ly/fish_csv_data')\n",
    "print(pd.DataFrame(fish['Species'].value_counts()).T)\n",
    "print(fish.columns)"
   ]
  },
  {
   "cell_type": "code",
   "execution_count": 3,
   "metadata": {},
   "outputs": [],
   "source": [
    "# 훈련세트와 테스트 세트로 나누기   \n",
    "from sklearn.model_selection import train_test_split\n",
    "\n",
    "fish_input, fish_target = fish.iloc[:, 1:], fish.iloc[:,0]\n",
    "\n",
    "train_input, test_input, train_target, test_target = train_test_split(fish_input, fish_target, random_state=42)"
   ]
  },
  {
   "cell_type": "code",
   "execution_count": 4,
   "metadata": {},
   "outputs": [],
   "source": [
    "# 훈련세트와 테스트 세트의 특성을 표준화 처리\n",
    "from sklearn.preprocessing import StandardScaler\n",
    "scaler = StandardScaler()\n",
    "scaler.fit(train_input)\n",
    "\n",
    "train_scaled = scaler.transform(train_input)\n",
    "test_scaled = scaler.transform(test_input)"
   ]
  },
  {
   "cell_type": "code",
   "execution_count": 5,
   "metadata": {},
   "outputs": [],
   "source": [
    "# 확률적 경사 하강법\n",
    "from sklearn.linear_model import SGDClassifier"
   ]
  },
  {
   "cell_type": "markdown",
   "metadata": {},
   "source": [
    "`SGDClassfier`의 객체를 만들떄는 2개의 매개변수를 지정한다. \n",
    "- `loss`는 손실함수의 종류를 지정한다. 여기에서는 `log_loss`로 지정하여 로지스틱 손실함수를 지정한다.\n",
    "- `max_iter`은 수행할 에포크 횟수를 지정한다."
   ]
  },
  {
   "cell_type": "code",
   "execution_count": 6,
   "metadata": {},
   "outputs": [
    {
     "name": "stdout",
     "output_type": "stream",
     "text": [
      "train score : 0.773109243697479\n",
      "test score  : 0.775 \n"
     ]
    },
    {
     "name": "stderr",
     "output_type": "stream",
     "text": [
      "c:\\Users\\fdsaf\\anaconda3\\Lib\\site-packages\\sklearn\\linear_model\\_stochastic_gradient.py:702: ConvergenceWarning: Maximum number of iteration reached before convergence. Consider increasing max_iter to improve the fit.\n",
      "  warnings.warn(\n"
     ]
    }
   ],
   "source": [
    "sc = SGDClassifier(loss='log_loss', max_iter=10, random_state=42)\n",
    "sc.fit(train_scaled, train_target)\n",
    "print(f'train score : {sc.score(train_scaled, train_target)}')\n",
    "print(f'test score  : {sc.score(test_scaled, test_target)} ')\n",
    "\n",
    "# 10번으로 지정할 경우에, 수렴 이전에 max_iter에 도달했다고 경고문 발생"
   ]
  },
  {
   "cell_type": "code",
   "execution_count": 7,
   "metadata": {},
   "outputs": [],
   "source": [
    "# 경사 하강법은 점진적 학습이 가능하다. partial_fit() 메서드를 사용하면 1 에포크씩 이어서 훈련할 수 있다."
   ]
  },
  {
   "cell_type": "code",
   "execution_count": 8,
   "metadata": {},
   "outputs": [
    {
     "name": "stdout",
     "output_type": "stream",
     "text": [
      "train score : 0.8151260504201681\n",
      "test score  : 0.8 \n"
     ]
    }
   ],
   "source": [
    "sc.partial_fit(train_scaled, train_target)\n",
    "print(f'train score : {sc.score(train_scaled, train_target)}')\n",
    "print(f'test score  : {sc.score(test_scaled, test_target)} ')\n",
    "# 평가 점수가 상승된것을 볼 수 있다."
   ]
  },
  {
   "cell_type": "markdown",
   "metadata": {},
   "source": [
    "- 적은 에포크 회수를 훈련한 모델은 과소적합일 가능성이 높다. \n",
    "- 반대로 너무 많은 에포크를 훈련한 모델은 과대 적합일 위험이 있다.\n",
    "- 과대적합이 시작되기 전에 훈련을 멈추는것을 **조기종료**라고한다."
   ]
  },
  {
   "cell_type": "code",
   "execution_count": 22,
   "metadata": {},
   "outputs": [],
   "source": [
    "# partial_fit() 메서드를 사용하여 300번의 에포크 동안 훈련점수와 테스트 점수를 파악한다.\n",
    "sc = SGDClassifier(loss='log_loss', random_state=42)\n",
    "train_scores = []\n",
    "test_scores = []\n",
    "\n",
    "# partial_fit() 메서드만 사용하려면 전체 클래스 레이블을 전달해야한다.\n",
    "classes = fish_target.unique()\n",
    "\n",
    "for _ in range(300):\n",
    "    sc.partial_fit(train_scaled, train_target, classes = classes) \n",
    "    train_scores.append(sc.score(train_scaled, train_target))\n",
    "    test_scores.append(sc.score(test_scaled, test_target))\n",
    "    \n"
   ]
  },
  {
   "cell_type": "code",
   "execution_count": 25,
   "metadata": {},
   "outputs": [
    {
     "data": {
      "text/plain": [
       "Text(0, 0.5, 'score')"
      ]
     },
     "execution_count": 25,
     "metadata": {},
     "output_type": "execute_result"
    },
    {
     "data": {
      "image/png": "[encoded data removed]",
      "text/plain": [
       "<Figure size 640x480 with 1 Axes>"
      ]
     },
     "metadata": {},
     "output_type": "display_data"
    }
   ],
   "source": [
    "import matplotlib.pyplot as plt\n",
    "\n",
    "plt.plot(train_scores)\n",
    "plt.plot(test_scores)\n",
    "plt.xlabel('epoch')\n",
    "plt.ylabel('score')"
   ]
  },
  {
   "cell_type": "markdown",
   "metadata": {},
   "source": [
    "그래프를 통해 봤을때, epoch가 100정도면 조기종료하기에 적합하다."
   ]
  },
  {
   "cell_type": "code",
   "execution_count": 40,
   "metadata": {},
   "outputs": [
    {
     "name": "stdout",
     "output_type": "stream",
     "text": [
      "train score : 0.957983193277311\n",
      "test score : 0.925\n"
     ]
    }
   ],
   "source": [
    "sc = SGDClassifier(loss='log_loss', max_iter=100, tol=None, random_state=42)  # tol=None을 지정하지 않으면, 일정 에포크동안 성능이 향상되지 않으면 자동으로 멈춘다.\n",
    "sc.fit(train_scaled, train_target)\n",
    "print(f'train score : {sc.score(train_scaled, train_target)}')\n",
    "print(f'test score : {sc.score(test_scaled, test_target)}')\n",
    "\n"
   ]
  }
 ],
 "metadata": {
  "kernelspec": {
   "display_name": "ML",
   "language": "python",
   "name": "python3"
  },
  "language_info": {
   "codemirror_mode": {
    "name": "ipython",
    "version": 3
   },
   "file_extension": ".py",
   "mimetype": "text/x-python",
   "name": "python",
   "nbconvert_exporter": "python",
   "pygments_lexer": "ipython3",
   "version": "3.11.7"
  }
 },
 "nbformat": 4,
 "nbformat_minor": 2
}
