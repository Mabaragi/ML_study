{
 "cells": [
  {
   "cell_type": "markdown",
   "metadata": {},
   "source": [
    "- 분류 vs. 회귀: 분류는 이산적인 클래스 레이블을 예측하는 반면, 회귀는 연속적인 수치를 예측합니다.\n",
    "\n",
    "- 결정 방식: 분류에서는 k개의 이웃 중 가장 많은 클래스에 속하는 레이블로 결정하고, 회귀에서는 k개의 이웃의 타겟 값의 평균을 사용하여 예측값을 결정합니다."
   ]
  },
  {
   "cell_type": "markdown",
   "metadata": {},
   "source": [
    "\n"
   ]
  }
 ],
 "metadata": {
  "language_info": {
   "name": "python"
  }
 },
 "nbformat": 4,
 "nbformat_minor": 2
}
