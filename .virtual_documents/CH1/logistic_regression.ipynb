


import pandas as pd
import numpy as np


fish = pd.read_csv('https://bit.ly/fish_csv_data')
display(fish)


pd.unique(fish['Species'])


fish_input = fish.iloc[:,1:]
fish_target = fish.iloc[:,0]


from sklearn.model_selection import train_test_split

train_input, test_input, train_target, test_target = train_test_split(fish_input, fish_target, random_state=42)
print(train_input.shape, test_input.shape)


from sklearn.preprocessing import StandardScaler
ss = StandardScaler()
ss.fit(train_input)
train_scaled = ss.transform(train_input)
test_scaled = ss.transform(test_input)






from sklearn.neighbors import KNeighborsClassifier

kn = KNeighborsClassifier(n_neighbors=3)
kn.fit(train_scaled, train_target)
print(kn.score(train_scaled,train_target))
print(kn.score(test_scaled, test_target))






kn.classes_


print(kn.predict(test_scaled[:5]))
print(test_target[:5])


# 확률 출력
proba = kn.predict_proba(test_scaled[:])
print(np.round(proba, 3))


df = pd.DataFrame(np.round(proba, 3), columns = ['Bream', 'Parkki', 'Perch', 'Pike', 'Roach', 'Smelt', 'Whitefish'])
df.head()








# 시그모이 함수 출력
import matplotlib.pyplot as plt
z = np.arange(-4, 4, 0.1)
phi = 1/(1 + np.exp(-z))
plt.plot(z, phi)



fish_input


bream_smelt_indexes = (train_target == 'Bream') | (train_target == 'Smelt')
target_bream_smelt = train_target[bream_smelt_indexes]
train_bream_smelt = train_scaled[bream_smelt_indexes]



from sklearn.linear_model import LogisticRegression
lg = LogisticRegression()
lg.fit(train_bream_smelt, target_bream_smelt)
lg.predict(train_bream_smelt)
np.round(lg.predict_proba(train_bream_smelt),3)


fish_input





lr = LogisticRegression(C=20, max_iter=1000)
lr.fit(train_scaled, train_target)
print(lr.score(train_scaled, train_target))
print(lr.score(test_scaled, test_target))


print(lr.predict(test_scaled[:5]))
print(lr.classes_)
print(np.round(lr.predict_proba(test_scaled[:5]),3))


print(f' logistic regression classes : {lr.classes_}')
print(f' logistic regression coef : {lr.coef_}')


# 계수의 형태
print(lr.coef_.shape) # (7, 5) 5개의 특성을 사용, 7개의 클래스
print(lr.intercept_.shape)



